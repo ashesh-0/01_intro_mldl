{
 "cells": [
  {
   "cell_type": "markdown",
   "id": "0e36ce0e",
   "metadata": {},
   "source": [
    "# Introduction to Machine Learning and Deep Learning\n",
    "\n",
    "### Acknowledgements\n",
    "\n",
    "The content of this notebook was originally created by Nils Eckstein, Julia Buhmann, and Jan Funke for the 2021 DL@MBL course in Woods Hole, and later chopped up and modified by Florian Jug for the 2021 course DL4MIA."
   ]
  },
  {
   "cell_type": "code",
   "execution_count": null,
   "id": "c7d7fb86",
   "metadata": {},
   "outputs": [],
   "source": [
    "import numpy as np\n",
    "import matplotlib.pyplot as plt\n",
    "\n",
    "from tensorflow.keras.models import Sequential\n",
    "from tensorflow.keras.layers import Dense"
   ]
  },
  {
   "cell_type": "markdown",
   "id": "b2135319",
   "metadata": {},
   "source": [
    "# Use Keras to Train a (Small) Neural Network\n",
    "\n",
    "The previous task demonstrated that chosing the weights of a neural network by hand can be quite painful even for simple functions. This will certainly get out of hand once we have more complex networks with several layers and many neurons per layer. But more importantly, the reason why we want to use neural networks to approximate a function is that (in general) we do not know exactly what the function is. We only have data points that describe the function implicitly.\n",
    "\n",
    "In this task, we will design, train, and evaluate a neural network that can classify points of two different classes on a 2D plane, i.e., the input to our network are the coordinates of points in a plane. Net initial network we want to build should have one hidden layer containing 12 nodes (perceptrons) that receive input from two nodes each, and are themselves connected to one single output node that should predict a binary class for the given input (x,y).\n",
    "\n",
    "For training this network, we will create a training and a testing dataset. We will then create the network and use stochastic gradient descent to train all network parameters on the training dataset and evaluate its performance on the testing dataset."
   ]
  },
  {
   "cell_type": "markdown",
   "id": "4e130d87",
   "metadata": {},
   "source": [
    "## Generate Training Data...\n",
    "\n",
    "We create both training and testing dataset from the following function (in practice, we would not know this function but have only the data available):"
   ]
  },
  {
   "cell_type": "code",
   "execution_count": null,
   "id": "fff660ac",
   "metadata": {},
   "outputs": [],
   "source": [
    "def generate_spiral_data(n_points, noise=1.0):\n",
    "    n = np.sqrt(np.random.rand(n_points,1)) * 780 * (2*np.pi)/360\n",
    "    d1x = -np.cos(n)*n + np.random.rand(n_points,1) * noise\n",
    "    d1y = np.sin(n)*n + np.random.rand(n_points,1) * noise\n",
    "    return (np.vstack((np.hstack((d1x,d1y)),np.hstack((-d1x,-d1y)))), \n",
    "            np.hstack((np.zeros(n_points),np.ones(n_points))))\n",
    "\n",
    "X_train, y_train = generate_spiral_data(100)\n",
    "\n",
    "plt.title('Training set')\n",
    "plt.plot(X_train[y_train==0,0], X_train[y_train==0,1], '.', label='Class 1')\n",
    "plt.plot(X_train[y_train==1,0], X_train[y_train==1,1], '.', label='Class 2')\n",
    "plt.legend()\n",
    "plt.show()\n",
    "\n",
    "X_test, y_test = generate_spiral_data(1000)\n",
    "\n",
    "plt.title('Test set')\n",
    "plt.plot(X_test[y_test==0,0], X_test[y_test==0,1], '.', label='Class 1')\n",
    "plt.plot(X_test[y_test==1,0], X_test[y_test==1,1], '.', label='Class 2')\n",
    "plt.legend()\n",
    "plt.show()"
   ]
  },
  {
   "cell_type": "markdown",
   "id": "d75329bf",
   "metadata": {},
   "source": [
    "# Let's create and train the network on the generated data...\n",
    "\n",
    "Please note how incredible short this code is... that's the power of modern neural network libraries...\n",
    "Try to understand what is roughly going on in the cell below... feel free to use google to figure out what some parts might mean..."
   ]
  },
  {
   "cell_type": "code",
   "execution_count": null,
   "id": "7679dd45",
   "metadata": {},
   "outputs": [],
   "source": [
    "network = Sequential()\n",
    "network.add(Dense(12, input_dim=2, activation='tanh'))\n",
    "network.add(Dense(1, activation='sigmoid'))\n",
    "\n",
    "network.compile(loss='mean_squared_error',\n",
    "                  optimizer='SGD', # SGD = Stochastic Gradient Descent\n",
    "                  metrics=['accuracy'])\n",
    "\n",
    "# Train the model\n",
    "network.fit(X_train, y_train, epochs=150, batch_size=10,  verbose=0)\n",
    "\n",
    "# Predict on the testing data\n",
    "prediction = np.round(network.predict(X_test).T[0])"
   ]
  },
  {
   "cell_type": "markdown",
   "id": "a6f2ceb2",
   "metadata": {},
   "source": [
    "Now that training is done, let's plot the results..."
   ]
  },
  {
   "cell_type": "code",
   "execution_count": null,
   "id": "b786bf65",
   "metadata": {},
   "outputs": [],
   "source": [
    "def plot_results(pred):\n",
    "    plt.subplot(1,2,1)\n",
    "\n",
    "    plt.title('Test set')\n",
    "    plt.plot(X_test[y_test==0,0], X_test[y_test==0,1], '.')\n",
    "    plt.plot(X_test[y_test==1,0], X_test[y_test==1,1], '.')\n",
    "    plt.subplot(1,2,2)\n",
    "\n",
    "    plt.title('Bad model classification')\n",
    "    plt.plot(X_test[pred==0,0], X_test[pred==0,1], '.')\n",
    "    plt.plot(X_test[pred==1,0], X_test[pred==1,1], '.')\n",
    "    plt.show()\n",
    "\n",
    "plot_results(prediction)"
   ]
  },
  {
   "cell_type": "markdown",
   "id": "f5cc3dd1",
   "metadata": {},
   "source": [
    "And the result is... **BAD!**\n",
    "\n",
    "This is, because the network is likely not powerful enough... hence, the model we used is not adequate for the training task at hand."
   ]
  },
  {
   "cell_type": "markdown",
   "id": "a71a8468",
   "metadata": {},
   "source": [
    "## Exercise: find a better solution...\n",
    "\n",
    "Create a second network that is somehow different and performs the task better...\n",
    "\n",
    "**Note:** Likely it is a good idea to copy the cell from above and somehow change it in a meaningful way."
   ]
  },
  {
   "cell_type": "code",
   "execution_count": null,
   "id": "d281a411",
   "metadata": {},
   "outputs": [],
   "source": [
    "########### TODO ###########\n",
    "############################\n",
    "# create an alternative model (network) here and train it as we did before...\n",
    "# currently network2 is the same as the network from above... just to give you a starting point...\n",
    "network2 = Sequential()\n",
    "network2.add(Dense(12, input_dim=2, activation='tanh'))\n",
    "network2.add(Dense(1, activation='sigmoid'))\n",
    "############################\n",
    "############################\n",
    "\n",
    "network2.compile(loss='binary_crossentropy',\n",
    "                   optimizer='adam',\n",
    "                   metrics=['accuracy'])\n",
    "\n",
    "# Train the model\n",
    "network2.fit(X_train, y_train, epochs=150, batch_size=10,  verbose=0)\n",
    "\n",
    "# Predict on the testing data\n",
    "prediction2 = np.round(network2.predict(X_test).T[0])"
   ]
  },
  {
   "cell_type": "code",
   "execution_count": null,
   "id": "cb73a84a",
   "metadata": {},
   "outputs": [],
   "source": [
    "plot_results(prediction2)"
   ]
  },
  {
   "cell_type": "markdown",
   "id": "354957f9",
   "metadata": {},
   "source": [
    "### Done? Cooool!\n",
    "\n",
    "You should now make a short coding break and visit the website https://playground.tensorflow.org\n",
    "\n",
    "Play a bit with it... figure out what elements are part of a typical network training workflow."
   ]
  }
 ],
 "metadata": {
  "kernelspec": {
   "display_name": "Python [conda env:01_intro_mldl]",
   "language": "python",
   "name": "conda-env-01_intro_mldl-py"
  },
  "language_info": {
   "codemirror_mode": {
    "name": "ipython",
    "version": 3
   },
   "file_extension": ".py",
   "mimetype": "text/x-python",
   "name": "python",
   "nbconvert_exporter": "python",
   "pygments_lexer": "ipython3",
   "version": "3.8.12"
  }
 },
 "nbformat": 4,
 "nbformat_minor": 5
}
